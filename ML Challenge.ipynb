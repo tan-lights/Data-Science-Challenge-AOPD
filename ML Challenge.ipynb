{
 "cells": [
  {
   "cell_type": "code",
   "execution_count": 2,
   "metadata": {
    "colab": {
     "base_uri": "https://localhost:8080/"
    },
    "id": "UHGiCY0AJo3b",
    "outputId": "16c4ffc4-beee-4673-b8e0-e8829edc192c"
   },
   "outputs": [
    {
     "name": "stdout",
     "output_type": "stream",
     "text": [
      "Mounted at /content/drive\n"
     ]
    }
   ],
   "source": [
    "import tensorflow as tf\n",
    "import numpy as np\n",
    "import matplotlib.pyplot as plt\n",
    "from tensorflow import keras\n",
    "from tensorflow.keras import models, layers, optimizers, losses\n",
    "import PIL\n",
    "import os\n",
    "import time\n",
    "from google.colab import drive\n",
    "drive.mount('/content/drive')"
   ]
  },
  {
   "cell_type": "code",
   "execution_count": 1,
   "metadata": {
    "id": "ipaG2BTcJzz8"
   },
   "outputs": [],
   "source": [
    "!mkdir -p /content/apod/train /content/apod/validation"
   ]
  },
  {
   "cell_type": "code",
   "execution_count": null,
   "metadata": {
    "id": "v4kDqosqJ6i4"
   },
   "outputs": [],
   "source": [
    "!unzip /content/drive/MyDrive/APOD_Train.zip -d /content/apod/train"
   ]
  },
  {
   "cell_type": "code",
   "execution_count": null,
   "metadata": {
    "id": "T6vAEJncJ9Hy"
   },
   "outputs": [],
   "source": [
    "!unzip /content/drive/MyDrive/APOD_Valid.zip -d /content/apod/validation "
   ]
  },
  {
   "cell_type": "code",
   "execution_count": 5,
   "metadata": {
    "id": "0bYkOP92KAAM"
   },
   "outputs": [],
   "source": [
    "import pathlib\n",
    "train_dir = pathlib.Path('/content/apod/train/APOD_Train')\n",
    "\n",
    "valid_dir = pathlib.Path('/content/apod/validation/APOD_Valid')"
   ]
  },
  {
   "cell_type": "code",
   "execution_count": 6,
   "metadata": {
    "id": "dQxqalpiE4SB"
   },
   "outputs": [],
   "source": [
    "train_ds = tf.data.Dataset.list_files(str(train_dir/'*/*'))\n",
    "valid_ds = tf.data.Dataset.list_files(str(valid_dir/'*/*'))\n",
    "class_names = ['Fake', 'Real']"
   ]
  },
  {
   "cell_type": "code",
   "execution_count": 7,
   "metadata": {
    "id": "QfZQDkqfKof3"
   },
   "outputs": [],
   "source": [
    "def process_image_label(filename):\n",
    "    parts = tf.strings.split(filename, os.sep)\n",
    "    label = tf.argmax(parts[-2] == class_names)\n",
    "    image = tf.io.read_file(filename)\n",
    "    image = tf.io.decode_image(image, channels=3, expand_animations=False,)\n",
    "    image = tf.cast(image, tf.float32)\n",
    "    image = tf.image.resize(image, [256, 256])\n",
    "    image = (image / 255.0)\n",
    "    return image, label"
   ]
  },
  {
   "cell_type": "code",
   "execution_count": 8,
   "metadata": {
    "id": "5o78IfXfNGWM"
   },
   "outputs": [],
   "source": [
    "# An augmentation function which will manipulate images randomly on each epoch\n",
    "def augment(image, label, seed):\n",
    "    # We are using the \"stateless\" random functions, so we need to generate\n",
    "    # random seeds\n",
    "    new_seed = tf.random.experimental.stateless_split(seed, num=1)[0, :]\n",
    "    image = tf.image.stateless_random_flip_left_right(\n",
    "        image, seed)\n",
    "    image = tf.image.stateless_random_brightness(\n",
    "        image, max_delta=0.5, seed=new_seed)\n",
    "    image = tf.image.stateless_random_hue(\n",
    "        image, 0.1, seed)\n",
    "    image = tf.image.stateless_random_saturation(\n",
    "        image, 0.5, 1.0, seed)\n",
    "\n",
    "    image = tf.clip_by_value(image, 0, 1)\n",
    "    return image, label"
   ]
  },
  {
   "cell_type": "code",
   "execution_count": 9,
   "metadata": {
    "id": "HbD5UE2ENOp0"
   },
   "outputs": [],
   "source": [
    "rng = tf.random.Generator.from_seed(123, alg='philox')\n",
    "\n",
    "# Create a wrapper function for updating seeds.\n",
    "def f(x, y):\n",
    "  seed = rng.make_seeds(2)[0]\n",
    "  image, label = augment(x, y, seed)\n",
    "  return image, label"
   ]
  },
  {
   "cell_type": "code",
   "execution_count": 10,
   "metadata": {
    "id": "89WR1shUKz16"
   },
   "outputs": [],
   "source": [
    "# Training images are parsed with the processing and augmentation functions\n",
    "train_data = (\n",
    "    train_ds\n",
    "    .map(process_image_label, num_parallel_calls=tf.data.AUTOTUNE)\n",
    "    .cache()\n",
    "    .map(f)\n",
    "    .prefetch(buffer_size=tf.data.AUTOTUNE)\n",
    "    .batch(64)\n",
    ")\n",
    "\n",
    "# Validation images as well\n",
    "valid_data = (\n",
    "    valid_ds\n",
    "    .map(process_image_label, num_parallel_calls=tf.data.AUTOTUNE)\n",
    "    .cache()\n",
    "    .map(f)\n",
    "    .prefetch(buffer_size=tf.data.AUTOTUNE)\n",
    "    .batch(64)\n",
    ")"
   ]
  },
  {
   "cell_type": "code",
   "execution_count": 11,
   "metadata": {
    "id": "hmW_kvK7MMnD"
   },
   "outputs": [],
   "source": [
    "model = models.Sequential([\n",
    "    layers.Input(shape=(256, 256, 3), name='Input'),\n",
    "    layers.Conv2D(32, 3, padding='same', activation='relu',\n",
    "                    name='Conv_1'),\n",
    "    layers.Conv2D(32, 3, padding='same', activation='relu',\n",
    "                    name='Conv_2'),\n",
    "    layers.MaxPooling2D(name='Pool_1'),\n",
    "    layers.Conv2D(64, 3, padding='same', activation='relu',\n",
    "                    name='Conv_3'),\n",
    "    layers.Conv2D(64, 3, padding='same', activation='relu',\n",
    "                    name='Conv_4'),\n",
    "    layers.MaxPooling2D(name='Pool_2'),\n",
    "    layers.Dropout(0.3, name='Dropout_1'),\n",
    "    layers.Conv2D(128, 3, padding='same', activation='relu',\n",
    "                    name='Conv_5'),\n",
    "    layers.Conv2D(128, 3, padding='same', activation='relu',\n",
    "                    name='Conv_6'),\n",
    "    layers.MaxPooling2D(name='Pool_3'),\n",
    "    layers.Dropout(0.5, name='Dropout_2'),\n",
    "    layers.Flatten(name='Flatten'),\n",
    "    layers.Dense(512, activation='relu', name='dense_1'),\n",
    "    layers.Dense(256, activation='relu', name='dense_2'),\n",
    "    layers.Dense(128, activation='relu', name='dense_3'),\n",
    "    layers.Dense(2, activation='softmax', name='Output')\n",
    "], name='CNN')\n",
    "\n",
    "model.compile(optimizer=tf.keras.optimizers.Adam(learning_rate=1e-3),\n",
    "              loss='sparse_categorical_crossentropy',\n",
    "              metrics=['accuracy'])\n"
   ]
  },
  {
   "cell_type": "code",
   "execution_count": 12,
   "metadata": {
    "colab": {
     "base_uri": "https://localhost:8080/"
    },
    "id": "x30-QJlaLDwc",
    "outputId": "5acf5d36-0854-4777-ae12-8db4f59fa66c"
   },
   "outputs": [
    {
     "name": "stdout",
     "output_type": "stream",
     "text": [
      "Epoch 1/20\n",
      "110/110 [==============================] - 85s 651ms/step - loss: 0.5869 - accuracy: 0.7104 - val_loss: 0.4995 - val_accuracy: 0.6922\n",
      "Epoch 2/20\n",
      "110/110 [==============================] - 55s 504ms/step - loss: 0.4574 - accuracy: 0.7521 - val_loss: 0.4812 - val_accuracy: 0.7742\n",
      "Epoch 3/20\n",
      "110/110 [==============================] - 56s 509ms/step - loss: 0.3916 - accuracy: 0.8067 - val_loss: 0.4663 - val_accuracy: 0.7907\n",
      "Epoch 4/20\n",
      "110/110 [==============================] - 56s 514ms/step - loss: 0.3681 - accuracy: 0.8263 - val_loss: 0.6190 - val_accuracy: 0.7412\n",
      "Epoch 5/20\n",
      "110/110 [==============================] - 56s 512ms/step - loss: 0.3574 - accuracy: 0.8379 - val_loss: 0.5746 - val_accuracy: 0.7339\n",
      "Epoch 6/20\n",
      "110/110 [==============================] - 56s 513ms/step - loss: 0.3275 - accuracy: 0.8524 - val_loss: 0.5469 - val_accuracy: 0.7783\n",
      "Epoch 7/20\n",
      "110/110 [==============================] - 57s 515ms/step - loss: 0.3032 - accuracy: 0.8669 - val_loss: 0.5583 - val_accuracy: 0.7874\n",
      "Epoch 8/20\n",
      "110/110 [==============================] - 57s 519ms/step - loss: 0.2772 - accuracy: 0.8781 - val_loss: 0.5309 - val_accuracy: 0.7980\n",
      "Epoch 9/20\n",
      "110/110 [==============================] - 57s 516ms/step - loss: 0.2431 - accuracy: 0.8939 - val_loss: 0.5085 - val_accuracy: 0.7975\n",
      "Epoch 10/20\n",
      "110/110 [==============================] - 57s 516ms/step - loss: 0.2178 - accuracy: 0.9149 - val_loss: 0.5718 - val_accuracy: 0.7916\n",
      "Epoch 11/20\n",
      "110/110 [==============================] - 57s 518ms/step - loss: 0.1968 - accuracy: 0.9236 - val_loss: 0.6328 - val_accuracy: 0.7870\n",
      "Epoch 12/20\n",
      "110/110 [==============================] - 57s 516ms/step - loss: 0.1746 - accuracy: 0.9304 - val_loss: 0.9112 - val_accuracy: 0.7787\n",
      "Epoch 13/20\n",
      "110/110 [==============================] - 57s 516ms/step - loss: 0.1585 - accuracy: 0.9373 - val_loss: 0.7489 - val_accuracy: 0.7897\n",
      "Epoch 14/20\n",
      "110/110 [==============================] - 57s 515ms/step - loss: 0.1339 - accuracy: 0.9500 - val_loss: 1.0052 - val_accuracy: 0.7888\n",
      "Epoch 15/20\n",
      "110/110 [==============================] - 57s 518ms/step - loss: 0.1314 - accuracy: 0.9513 - val_loss: 0.8160 - val_accuracy: 0.7778\n",
      "Epoch 16/20\n",
      "110/110 [==============================] - 57s 514ms/step - loss: 0.1114 - accuracy: 0.9579 - val_loss: 1.0557 - val_accuracy: 0.7783\n",
      "Epoch 17/20\n",
      "110/110 [==============================] - 57s 514ms/step - loss: 0.1175 - accuracy: 0.9571 - val_loss: 1.1274 - val_accuracy: 0.7572\n",
      "Epoch 18/20\n",
      "110/110 [==============================] - 57s 518ms/step - loss: 0.0963 - accuracy: 0.9673 - val_loss: 1.0187 - val_accuracy: 0.7948\n",
      "Epoch 19/20\n",
      "110/110 [==============================] - 56s 514ms/step - loss: 0.0866 - accuracy: 0.9681 - val_loss: 0.9135 - val_accuracy: 0.7948\n",
      "Epoch 20/20\n",
      "110/110 [==============================] - 56s 514ms/step - loss: 0.0951 - accuracy: 0.9657 - val_loss: 1.0338 - val_accuracy: 0.7916\n"
     ]
    }
   ],
   "source": [
    "epochs=20\n",
    "\n",
    "history = model.fit(\n",
    "    train_data,\n",
    "    validation_data=valid_data,\n",
    "    epochs=epochs\n",
    ")"
   ]
  },
  {
   "cell_type": "code",
   "execution_count": 21,
   "metadata": {
    "colab": {
     "base_uri": "https://localhost:8080/",
     "height": 369
    },
    "id": "8sRGwZh9LEkB",
    "outputId": "052a75e9-8b0c-47f4-971e-a7bbccde38fa"
   },
   "outputs": [
    {
     "data": {
      "image/png": "[encoded data removed]",
      "text/plain": [
       "<Figure size 720x360 with 2 Axes>"
      ]
     },
     "metadata": {
      "needs_background": "light"
     },
     "output_type": "display_data"
    }
   ],
   "source": [
    "f, ax = plt.subplots(1,2, figsize=(10,5))\n",
    "\n",
    "ax[0].plot(history.history['loss'])\n",
    "ax[0].plot(history.history['val_loss'])\n",
    "ax[0].set_ylim(0.0, 1.2)\n",
    "ax[0].set_ylabel('Loss')\n",
    "ax[0].set_xlabel('Epoch')\n",
    "ax[0].grid(color='black', linestyle='-.', linewidth=0.3)\n",
    "\n",
    "ax[1].plot(history.history['accuracy'], label='Training data')\n",
    "ax[1].plot(history.history['val_accuracy'], label='Validation data')\n",
    "ax[1].set_ylim(0.6, 1)\n",
    "ax[1].set_ylabel('Accuracy')\n",
    "ax[1].set_xlabel('Epoch')\n",
    "ax[1].grid(color='black', linestyle='-.', linewidth=0.3)\n",
    "\n",
    "plt.legend()\n",
    "plt.tight_layout()\n",
    "plt.show()"
   ]
  },
  {
   "cell_type": "code",
   "execution_count": 22,
   "metadata": {
    "colab": {
     "base_uri": "https://localhost:8080/"
    },
    "id": "wlqLTFV_Pc5Z",
    "outputId": "c10b940f-3c83-406b-8933-b850e2f118ac"
   },
   "outputs": [
    {
     "name": "stderr",
     "output_type": "stream",
     "text": [
      "WARNING:absl:Function `_wrapped_model` contains input name(s) Input with unsupported characters which will be renamed to input in the SavedModel.\n",
      "WARNING:absl:Found untraced functions such as _jit_compiled_convolution_op, _jit_compiled_convolution_op, _jit_compiled_convolution_op, _jit_compiled_convolution_op, _jit_compiled_convolution_op while saving (showing 5 of 6). These functions will not be directly callable after loading.\n"
     ]
    }
   ],
   "source": [
    "model.save('/content/drive/MyDrive/Group_15_Model_Trained')"
   ]
  },
  {
   "cell_type": "code",
   "execution_count": 23,
   "metadata": {
    "colab": {
     "base_uri": "https://localhost:8080/"
    },
    "id": "o_4bVwi6PifS",
    "outputId": "fc25eab4-d8d3-4686-bc2d-0c719ff5ffd0"
   },
   "outputs": [
    {
     "name": "stdout",
     "output_type": "stream",
     "text": [
      "Model: \"CNN\"\n",
      "_________________________________________________________________\n",
      " Layer (type)                Output Shape              Param #   \n",
      "=================================================================\n",
      " Conv_1 (Conv2D)             (None, 256, 256, 32)      896       \n",
      "                                                                 \n",
      " Conv_2 (Conv2D)             (None, 256, 256, 32)      9248      \n",
      "                                                                 \n",
      " Pool_1 (MaxPooling2D)       (None, 128, 128, 32)      0         \n",
      "                                                                 \n",
      " Conv_3 (Conv2D)             (None, 128, 128, 64)      18496     \n",
      "                                                                 \n",
      " Conv_4 (Conv2D)             (None, 128, 128, 64)      36928     \n",
      "                                                                 \n",
      " Pool_2 (MaxPooling2D)       (None, 64, 64, 64)        0         \n",
      "                                                                 \n",
      " Dropout_1 (Dropout)         (None, 64, 64, 64)        0         \n",
      "                                                                 \n",
      " Conv_5 (Conv2D)             (None, 64, 64, 128)       73856     \n",
      "                                                                 \n",
      " Conv_6 (Conv2D)             (None, 64, 64, 128)       147584    \n",
      "                                                                 \n",
      " Pool_3 (MaxPooling2D)       (None, 32, 32, 128)       0         \n",
      "                                                                 \n",
      " Dropout_2 (Dropout)         (None, 32, 32, 128)       0         \n",
      "                                                                 \n",
      " Flatten (Flatten)           (None, 131072)            0         \n",
      "                                                                 \n",
      " dense_1 (Dense)             (None, 512)               67109376  \n",
      "                                                                 \n",
      " dense_2 (Dense)             (None, 256)               131328    \n",
      "                                                                 \n",
      " dense_3 (Dense)             (None, 128)               32896     \n",
      "                                                                 \n",
      " Output (Dense)              (None, 2)                 258       \n",
      "                                                                 \n",
      "=================================================================\n",
      "Total params: 67,560,866\n",
      "Trainable params: 67,560,866\n",
      "Non-trainable params: 0\n",
      "_________________________________________________________________\n"
     ]
    }
   ],
   "source": [
    "loaded_model = tf.keras.models.load_model('/content/drive/MyDrive/Group_15_Model_Trained')\n",
    "loaded_model.summary()"
   ]
  },
  {
   "cell_type": "code",
   "execution_count": 24,
   "metadata": {
    "colab": {
     "base_uri": "https://localhost:8080/"
    },
    "id": "fVOH_taxPkj6",
    "outputId": "fb16f704-a469-4b05-d094-965b28a7017f"
   },
   "outputs": [
    {
     "name": "stdout",
     "output_type": "stream",
     "text": [
      "  adding: content/drive/MyDrive/Group_15_Model_Trained/ (stored 0%)\n",
      "  adding: content/drive/MyDrive/Group_15_Model_Trained/variables/ (stored 0%)\n",
      "  adding: content/drive/MyDrive/Group_15_Model_Trained/variables/variables.data-00000-of-00001 (deflated 21%)\n",
      "  adding: content/drive/MyDrive/Group_15_Model_Trained/variables/variables.index (deflated 71%)\n",
      "  adding: content/drive/MyDrive/Group_15_Model_Trained/assets/ (stored 0%)\n",
      "  adding: content/drive/MyDrive/Group_15_Model_Trained/saved_model.pb (deflated 89%)\n",
      "  adding: content/drive/MyDrive/Group_15_Model_Trained/keras_metadata.pb (deflated 94%)\n"
     ]
    }
   ],
   "source": [
    "# zip the model\n",
    "!zip -r /content/drive/MyDrive/Group_15_Model_Trained.zip /content/drive/MyDrive/Group_15_Model_Trained"
   ]
  },
  {
   "cell_type": "code",
   "execution_count": 17,
   "metadata": {
    "id": "bfiU8rmL8D8m"
   },
   "outputs": [],
   "source": [
    "test_dir = pathlib.Path('/content/drive/MyDrive/APOD_Test')"
   ]
  },
  {
   "cell_type": "code",
   "execution_count": 18,
   "metadata": {
    "id": "PK1eq7nk8ExV"
   },
   "outputs": [],
   "source": [
    "test_data = test_dir.rglob('*')"
   ]
  },
  {
   "cell_type": "code",
   "execution_count": 19,
   "metadata": {
    "colab": {
     "base_uri": "https://localhost:8080/"
    },
    "id": "NGXAEA3V8ooe",
    "outputId": "3673bf3d-cae6-4e88-cdaf-a544785fe737"
   },
   "outputs": [
    {
     "name": "stdout",
     "output_type": "stream",
     "text": [
      "1/1 [==============================] - 1s 926ms/step\n",
      "/content/drive/MyDrive/APOD_Test/ap000420.jpg is a Real image\n",
      "1/1 [==============================] - 0s 80ms/step\n",
      "/content/drive/MyDrive/APOD_Test/ap000421.jpg is a Real image\n",
      "1/1 [==============================] - 0s 45ms/step\n",
      "/content/drive/MyDrive/APOD_Test/ap000424.jpg is a Real image\n",
      "1/1 [==============================] - 0s 85ms/step\n",
      "/content/drive/MyDrive/APOD_Test/ap000423.jpg is a Real image\n",
      "1/1 [==============================] - 0s 70ms/step\n",
      "/content/drive/MyDrive/APOD_Test/ap000422.jpg is a Real image\n",
      "1/1 [==============================] - 0s 80ms/step\n",
      "/content/drive/MyDrive/APOD_Test/ap000313.jpg is a Real image\n",
      "1/1 [==============================] - 0s 21ms/step\n",
      "/content/drive/MyDrive/APOD_Test/ap000324.jpg is a Real image\n",
      "1/1 [==============================] - 0s 20ms/step\n",
      "/content/drive/MyDrive/APOD_Test/ap000405.jpg is a Real image\n",
      "1/1 [==============================] - 0s 39ms/step\n",
      "/content/drive/MyDrive/APOD_Test/ap000416.jpg is a Real image\n",
      "1/1 [==============================] - 0s 73ms/step\n",
      "/content/drive/MyDrive/APOD_Test/ap000317.jpg is a Real image\n",
      "1/1 [==============================] - 0s 64ms/step\n",
      "/content/drive/MyDrive/APOD_Test/ap000419.jpg is a Real image\n",
      "1/1 [==============================] - 0s 22ms/step\n",
      "/content/drive/MyDrive/APOD_Test/ap000321.jpg is a Real image\n",
      "1/1 [==============================] - 0s 39ms/step\n",
      "/content/drive/MyDrive/APOD_Test/ap000407.jpg is a Real image\n",
      "1/1 [==============================] - 0s 43ms/step\n",
      "/content/drive/MyDrive/APOD_Test/ap000326.jpg is a Real image\n",
      "1/1 [==============================] - 0s 36ms/step\n",
      "/content/drive/MyDrive/APOD_Test/ap000316.jpg is a Real image\n",
      "1/1 [==============================] - 0s 47ms/step\n",
      "/content/drive/MyDrive/APOD_Test/ap000329.jpg is a Real image\n",
      "1/1 [==============================] - 0s 27ms/step\n",
      "/content/drive/MyDrive/APOD_Test/ap000322.jpg is a Real image\n",
      "1/1 [==============================] - 0s 44ms/step\n",
      "/content/drive/MyDrive/APOD_Test/ap000320.jpg is a Real image\n",
      "1/1 [==============================] - 0s 44ms/step\n",
      "/content/drive/MyDrive/APOD_Test/ap000411.jpg is a Real image\n",
      "1/1 [==============================] - 0s 50ms/step\n",
      "/content/drive/MyDrive/APOD_Test/ap000413.jpg is a Real image\n",
      "1/1 [==============================] - 0s 45ms/step\n",
      "/content/drive/MyDrive/APOD_Test/ap000323.jpg is a Real image\n",
      "1/1 [==============================] - 0s 38ms/step\n",
      "/content/drive/MyDrive/APOD_Test/ap000402.jpg is a Real image\n",
      "1/1 [==============================] - 0s 34ms/step\n",
      "/content/drive/MyDrive/APOD_Test/ap000331.jpg is a Real image\n",
      "1/1 [==============================] - 0s 29ms/step\n",
      "/content/drive/MyDrive/APOD_Test/ap000330.jpg is a Real image\n",
      "1/1 [==============================] - 0s 19ms/step\n",
      "/content/drive/MyDrive/APOD_Test/ap000312.jpg is a Real image\n",
      "1/1 [==============================] - 0s 16ms/step\n",
      "/content/drive/MyDrive/APOD_Test/ap000418.jpg is a Real image\n",
      "1/1 [==============================] - 0s 14ms/step\n",
      "/content/drive/MyDrive/APOD_Test/ap000328.jpg is a Real image\n",
      "1/1 [==============================] - 0s 14ms/step\n",
      "/content/drive/MyDrive/APOD_Test/ap000319.jpg is a Real image\n",
      "1/1 [==============================] - 0s 14ms/step\n",
      "/content/drive/MyDrive/APOD_Test/ap000414.jpg is a Real image\n",
      "1/1 [==============================] - 0s 15ms/step\n",
      "/content/drive/MyDrive/APOD_Test/ap000406.jpg is a Real image\n",
      "1/1 [==============================] - 0s 14ms/step\n",
      "/content/drive/MyDrive/APOD_Test/ap000408.jpg is a Real image\n",
      "1/1 [==============================] - 0s 16ms/step\n",
      "/content/drive/MyDrive/APOD_Test/ap000325.jpg is a Real image\n",
      "1/1 [==============================] - 0s 15ms/step\n",
      "/content/drive/MyDrive/APOD_Test/ap000315.jpg is a Real image\n",
      "1/1 [==============================] - 0s 15ms/step\n",
      "/content/drive/MyDrive/APOD_Test/ap000401.jpg is a Real image\n",
      "1/1 [==============================] - 0s 20ms/step\n",
      "/content/drive/MyDrive/APOD_Test/ap000410.jpg is a Real image\n",
      "1/1 [==============================] - 0s 17ms/step\n",
      "/content/drive/MyDrive/APOD_Test/ap000130.jpg is a Real image\n",
      "1/1 [==============================] - 0s 14ms/step\n",
      "/content/drive/MyDrive/APOD_Test/ap000218.jpg is a Real image\n",
      "1/1 [==============================] - 0s 16ms/step\n",
      "/content/drive/MyDrive/APOD_Test/ap000301.jpg is a Real image\n",
      "1/1 [==============================] - 0s 16ms/step\n",
      "/content/drive/MyDrive/APOD_Test/ap000205.jpg is a Real image\n",
      "1/1 [==============================] - 0s 15ms/step\n",
      "/content/drive/MyDrive/APOD_Test/ap000204.jpg is a Real image\n",
      "1/1 [==============================] - 0s 14ms/step\n",
      "/content/drive/MyDrive/APOD_Test/ap000225.jpg is a Real image\n",
      "1/1 [==============================] - 0s 15ms/step\n",
      "/content/drive/MyDrive/APOD_Test/ap000308.jpg is a Real image\n",
      "1/1 [==============================] - 0s 17ms/step\n",
      "/content/drive/MyDrive/APOD_Test/ap000203.jpg is a Real image\n",
      "1/1 [==============================] - 0s 17ms/step\n",
      "/content/drive/MyDrive/APOD_Test/ap000224.jpg is a Real image\n",
      "1/1 [==============================] - 0s 20ms/step\n",
      "/content/drive/MyDrive/APOD_Test/ap000127.jpg is a Real image\n",
      "1/1 [==============================] - 0s 15ms/step\n",
      "/content/drive/MyDrive/APOD_Test/ap000310.jpg is a Real image\n",
      "1/1 [==============================] - 0s 17ms/step\n",
      "/content/drive/MyDrive/APOD_Test/ap000129.jpg is a Real image\n",
      "1/1 [==============================] - 0s 17ms/step\n",
      "/content/drive/MyDrive/APOD_Test/ap000209.jpg is a Real image\n",
      "1/1 [==============================] - 0s 18ms/step\n",
      "/content/drive/MyDrive/APOD_Test/ap000307.jpg is a Real image\n",
      "1/1 [==============================] - 0s 14ms/step\n",
      "/content/drive/MyDrive/APOD_Test/ap000309.jpg is a Real image\n",
      "1/1 [==============================] - 0s 17ms/step\n",
      "/content/drive/MyDrive/APOD_Test/ap000311.jpg is a Real image\n",
      "1/1 [==============================] - 0s 16ms/step\n",
      "/content/drive/MyDrive/APOD_Test/ap000125.jpg is a Real image\n",
      "1/1 [==============================] - 0s 17ms/step\n",
      "/content/drive/MyDrive/APOD_Test/ap000304.jpg is a Real image\n",
      "1/1 [==============================] - 0s 16ms/step\n",
      "/content/drive/MyDrive/APOD_Test/ap000131.jpg is a Real image\n",
      "1/1 [==============================] - 0s 14ms/step\n",
      "/content/drive/MyDrive/APOD_Test/ap000215.jpg is a Real image\n",
      "1/1 [==============================] - 0s 15ms/step\n",
      "/content/drive/MyDrive/APOD_Test/ap000305.jpg is a Real image\n",
      "1/1 [==============================] - 0s 14ms/step\n",
      "/content/drive/MyDrive/APOD_Test/ap000221.jpg is a Real image\n",
      "1/1 [==============================] - 0s 16ms/step\n",
      "/content/drive/MyDrive/APOD_Test/ap000303.jpg is a Real image\n",
      "1/1 [==============================] - 0s 16ms/step\n",
      "/content/drive/MyDrive/APOD_Test/ap000222.jpg is a Real image\n",
      "1/1 [==============================] - 0s 14ms/step\n",
      "/content/drive/MyDrive/APOD_Test/ap000302.jpg is a Real image\n",
      "1/1 [==============================] - 0s 15ms/step\n",
      "/content/drive/MyDrive/APOD_Test/ap000126.jpg is a Real image\n",
      "1/1 [==============================] - 0s 15ms/step\n",
      "/content/drive/MyDrive/APOD_Test/ap000207.jpg is a Real image\n",
      "1/1 [==============================] - 0s 16ms/step\n",
      "/content/drive/MyDrive/APOD_Test/ap000208.jpg is a Real image\n",
      "1/1 [==============================] - 0s 17ms/step\n",
      "/content/drive/MyDrive/APOD_Test/ap000201.jpg is a Real image\n",
      "1/1 [==============================] - 0s 15ms/step\n",
      "/content/drive/MyDrive/APOD_Test/ap000227.jpg is a Real image\n",
      "1/1 [==============================] - 0s 17ms/step\n",
      "/content/drive/MyDrive/APOD_Test/ap000306.jpg is a Real image\n",
      "1/1 [==============================] - 0s 19ms/step\n",
      "/content/drive/MyDrive/APOD_Test/ap000124.jpg is a Real image\n",
      "1/1 [==============================] - 0s 18ms/step\n",
      "/content/drive/MyDrive/APOD_Test/ap000228.jpg is a Real image\n",
      "1/1 [==============================] - 0s 16ms/step\n",
      "/content/drive/MyDrive/APOD_Test/ap000226.jpg is a Real image\n",
      "1/1 [==============================] - 0s 14ms/step\n",
      "/content/drive/MyDrive/APOD_Test/ap000229.jpg is a Real image\n",
      "1/1 [==============================] - 0s 16ms/step\n",
      "/content/drive/MyDrive/APOD_Test/ap000219.jpg is a Real image\n",
      "1/1 [==============================] - 0s 14ms/step\n",
      "/content/drive/MyDrive/APOD_Test/ap000202.jpg is a Real image\n",
      "1/1 [==============================] - 0s 17ms/step\n",
      "/content/drive/MyDrive/APOD_Test/ap000206.jpg is a Real image\n",
      "1/1 [==============================] - 0s 15ms/step\n",
      "/content/drive/MyDrive/APOD_Test/ap000216.jpg is a Real image\n",
      "1/1 [==============================] - 0s 17ms/step\n",
      "/content/drive/MyDrive/APOD_Test/ap000113.jpg is a Real image\n",
      "1/1 [==============================] - 0s 16ms/step\n",
      "/content/drive/MyDrive/APOD_Test/ap000121.jpg is a Real image\n",
      "1/1 [==============================] - 0s 17ms/step\n",
      "/content/drive/MyDrive/APOD_Test/ap000112.jpg is a Real image\n",
      "1/1 [==============================] - 0s 15ms/step\n",
      "/content/drive/MyDrive/APOD_Test/ap000120.jpg is a Real image\n",
      "1/1 [==============================] - 0s 19ms/step\n",
      "/content/drive/MyDrive/APOD_Test/ap000118.jpg is a Real image\n",
      "1/1 [==============================] - 0s 21ms/step\n",
      "/content/drive/MyDrive/APOD_Test/ap000108.jpg is a Real image\n",
      "1/1 [==============================] - 0s 16ms/step\n",
      "/content/drive/MyDrive/APOD_Test/ap000111.jpg is a Real image\n",
      "1/1 [==============================] - 0s 16ms/step\n",
      "/content/drive/MyDrive/APOD_Test/ap000122.jpg is a Real image\n",
      "1/1 [==============================] - 0s 17ms/step\n",
      "/content/drive/MyDrive/APOD_Test/ap000119.jpg is a Real image\n",
      "1/1 [==============================] - 0s 15ms/step\n",
      "/content/drive/MyDrive/APOD_Test/ap000110.jpg is a Real image\n",
      "1/1 [==============================] - 0s 16ms/step\n",
      "/content/drive/MyDrive/APOD_Test/ap000116.jpg is a Real image\n",
      "1/1 [==============================] - 0s 18ms/step\n",
      "/content/drive/MyDrive/APOD_Test/ap000109.jpg is a Real image\n",
      "1/1 [==============================] - 0s 14ms/step\n",
      "/content/drive/MyDrive/APOD_Test/00045.png is a Fake image\n",
      "1/1 [==============================] - 0s 17ms/step\n",
      "/content/drive/MyDrive/APOD_Test/00056.png is a Fake image\n",
      "1/1 [==============================] - 0s 14ms/step\n",
      "/content/drive/MyDrive/APOD_Test/00060.png is a Real image\n",
      "1/1 [==============================] - 0s 16ms/step\n",
      "/content/drive/MyDrive/APOD_Test/00047.png is a Real image\n",
      "1/1 [==============================] - 0s 17ms/step\n",
      "/content/drive/MyDrive/APOD_Test/00039.png is a Fake image\n",
      "1/1 [==============================] - 0s 15ms/step\n",
      "/content/drive/MyDrive/APOD_Test/00051.png is a Fake image\n",
      "1/1 [==============================] - 0s 15ms/step\n",
      "/content/drive/MyDrive/APOD_Test/00040.png is a Fake image\n",
      "1/1 [==============================] - 0s 18ms/step\n",
      "/content/drive/MyDrive/APOD_Test/00041.png is a Fake image\n",
      "1/1 [==============================] - 0s 17ms/step\n",
      "/content/drive/MyDrive/APOD_Test/00057.png is a Fake image\n",
      "1/1 [==============================] - 0s 18ms/step\n",
      "/content/drive/MyDrive/APOD_Test/00043.png is a Fake image\n",
      "1/1 [==============================] - 0s 15ms/step\n",
      "/content/drive/MyDrive/APOD_Test/00054.png is a Fake image\n",
      "1/1 [==============================] - 0s 16ms/step\n",
      "/content/drive/MyDrive/APOD_Test/00147.png is a Fake image\n",
      "1/1 [==============================] - 0s 15ms/step\n",
      "/content/drive/MyDrive/APOD_Test/00074.png is a Real image\n",
      "1/1 [==============================] - 0s 14ms/step\n",
      "/content/drive/MyDrive/APOD_Test/00128.png is a Fake image\n",
      "1/1 [==============================] - 0s 16ms/step\n",
      "/content/drive/MyDrive/APOD_Test/00137.png is a Fake image\n",
      "1/1 [==============================] - 0s 16ms/step\n",
      "/content/drive/MyDrive/APOD_Test/00086.png is a Fake image\n",
      "1/1 [==============================] - 0s 17ms/step\n",
      "/content/drive/MyDrive/APOD_Test/00217.png is a Fake image\n",
      "1/1 [==============================] - 0s 20ms/step\n",
      "/content/drive/MyDrive/APOD_Test/00083.png is a Fake image\n",
      "1/1 [==============================] - 0s 16ms/step\n",
      "/content/drive/MyDrive/APOD_Test/00149.png is a Fake image\n",
      "1/1 [==============================] - 0s 15ms/step\n",
      "/content/drive/MyDrive/APOD_Test/00207.png is a Fake image\n",
      "1/1 [==============================] - 0s 16ms/step\n",
      "/content/drive/MyDrive/APOD_Test/00124.png is a Fake image\n",
      "1/1 [==============================] - 0s 15ms/step\n",
      "/content/drive/MyDrive/APOD_Test/00170.png is a Fake image\n",
      "1/1 [==============================] - 0s 16ms/step\n",
      "/content/drive/MyDrive/APOD_Test/00181.png is a Fake image\n",
      "1/1 [==============================] - 0s 14ms/step\n",
      "/content/drive/MyDrive/APOD_Test/00072.png is a Fake image\n",
      "1/1 [==============================] - 0s 17ms/step\n",
      "/content/drive/MyDrive/APOD_Test/00094.png is a Fake image\n",
      "1/1 [==============================] - 0s 17ms/step\n",
      "/content/drive/MyDrive/APOD_Test/00103.png is a Fake image\n",
      "1/1 [==============================] - 0s 16ms/step\n",
      "/content/drive/MyDrive/APOD_Test/00205.png is a Fake image\n",
      "1/1 [==============================] - 0s 16ms/step\n",
      "/content/drive/MyDrive/APOD_Test/00105.png is a Fake image\n",
      "1/1 [==============================] - 0s 18ms/step\n",
      "/content/drive/MyDrive/APOD_Test/00109.png is a Real image\n",
      "1/1 [==============================] - 0s 16ms/step\n",
      "/content/drive/MyDrive/APOD_Test/00194.png is a Fake image\n",
      "1/1 [==============================] - 0s 16ms/step\n",
      "/content/drive/MyDrive/APOD_Test/00179.png is a Real image\n",
      "1/1 [==============================] - 0s 15ms/step\n",
      "/content/drive/MyDrive/APOD_Test/00175.png is a Real image\n",
      "1/1 [==============================] - 0s 14ms/step\n",
      "/content/drive/MyDrive/APOD_Test/00165.png is a Fake image\n",
      "1/1 [==============================] - 0s 16ms/step\n",
      "/content/drive/MyDrive/APOD_Test/00073.png is a Real image\n",
      "1/1 [==============================] - 0s 16ms/step\n",
      "/content/drive/MyDrive/APOD_Test/00091.png is a Real image\n",
      "1/1 [==============================] - 0s 20ms/step\n",
      "/content/drive/MyDrive/APOD_Test/00212.png is a Fake image\n",
      "1/1 [==============================] - 0s 16ms/step\n",
      "/content/drive/MyDrive/APOD_Test/00070.png is a Real image\n",
      "1/1 [==============================] - 0s 17ms/step\n",
      "/content/drive/MyDrive/APOD_Test/00153.png is a Fake image\n",
      "1/1 [==============================] - 0s 17ms/step\n",
      "/content/drive/MyDrive/APOD_Test/00071.png is a Fake image\n",
      "1/1 [==============================] - 0s 16ms/step\n",
      "/content/drive/MyDrive/APOD_Test/00115.png is a Fake image\n",
      "1/1 [==============================] - 0s 16ms/step\n",
      "/content/drive/MyDrive/APOD_Test/00141.png is a Fake image\n",
      "1/1 [==============================] - 0s 16ms/step\n",
      "/content/drive/MyDrive/APOD_Test/00209.png is a Real image\n",
      "1/1 [==============================] - 0s 16ms/step\n",
      "/content/drive/MyDrive/APOD_Test/00159.png is a Real image\n",
      "1/1 [==============================] - 0s 17ms/step\n",
      "/content/drive/MyDrive/APOD_Test/00157.png is a Fake image\n",
      "1/1 [==============================] - 0s 17ms/step\n",
      "/content/drive/MyDrive/APOD_Test/00192.png is a Fake image\n",
      "1/1 [==============================] - 0s 14ms/step\n",
      "/content/drive/MyDrive/APOD_Test/00133.png is a Real image\n",
      "1/1 [==============================] - 0s 17ms/step\n",
      "/content/drive/MyDrive/APOD_Test/00167.png is a Fake image\n",
      "1/1 [==============================] - 0s 20ms/step\n",
      "/content/drive/MyDrive/APOD_Test/00216.png is a Fake image\n",
      "1/1 [==============================] - 0s 20ms/step\n",
      "/content/drive/MyDrive/APOD_Test/00198.png is a Real image\n",
      "1/1 [==============================] - 0s 20ms/step\n",
      "/content/drive/MyDrive/APOD_Test/00101.png is a Real image\n",
      "1/1 [==============================] - 0s 16ms/step\n",
      "/content/drive/MyDrive/APOD_Test/00178.png is a Fake image\n",
      "1/1 [==============================] - 0s 16ms/step\n",
      "/content/drive/MyDrive/APOD_Test/00062.png is a Real image\n",
      "1/1 [==============================] - 0s 14ms/step\n",
      "/content/drive/MyDrive/APOD_Test/00107.png is a Fake image\n",
      "1/1 [==============================] - 0s 18ms/step\n",
      "/content/drive/MyDrive/APOD_Test/00102.png is a Fake image\n",
      "1/1 [==============================] - 0s 19ms/step\n",
      "/content/drive/MyDrive/APOD_Test/00202.png is a Real image\n",
      "1/1 [==============================] - 0s 16ms/step\n",
      "/content/drive/MyDrive/APOD_Test/00077.png is a Real image\n",
      "1/1 [==============================] - 0s 19ms/step\n",
      "/content/drive/MyDrive/APOD_Test/00119.png is a Fake image\n",
      "1/1 [==============================] - 0s 19ms/step\n",
      "/content/drive/MyDrive/APOD_Test/00075.png is a Fake image\n",
      "1/1 [==============================] - 0s 15ms/step\n",
      "/content/drive/MyDrive/APOD_Test/00164.png is a Fake image\n",
      "1/1 [==============================] - 0s 16ms/step\n",
      "/content/drive/MyDrive/APOD_Test/00168.png is a Fake image\n",
      "1/1 [==============================] - 0s 16ms/step\n",
      "/content/drive/MyDrive/APOD_Test/00089.png is a Fake image\n",
      "1/1 [==============================] - 0s 24ms/step\n",
      "/content/drive/MyDrive/APOD_Test/00180.png is a Fake image\n",
      "1/1 [==============================] - 0s 22ms/step\n",
      "/content/drive/MyDrive/APOD_Test/00191.png is a Real image\n"
     ]
    }
   ],
   "source": [
    "for image in test_data:\n",
    "  img = keras.preprocessing.image.load_img(image)\n",
    "  img = img.resize((256, 256))\n",
    "  img_tensor = keras.preprocessing.image.img_to_array(img)\n",
    "  img_tensor = tf.expand_dims(img_tensor, 0)\n",
    "\n",
    "  pred = model.predict(img_tensor)\n",
    "  pred_index = pred.argmax()\n",
    "  pred_class = class_names[pred_index]\n",
    "  \n",
    "  print(f'{image} is a {pred_class} image')"
   ]
  },
  {
   "cell_type": "markdown",
   "metadata": {},
   "source": [
    "Using transfer learning to to try out a different model."
   ]
  },
  {
   "cell_type": "code",
   "execution_count": null,
   "metadata": {},
   "outputs": [],
   "source": [
    "from keras.applications.vgg16 import preprocess_input, VGG16\n",
    "from keras.layers import Flatten, Dense, Dropout\n",
    "from keras.models import Model\n",
    "\n",
    "vgg = VGG16(include_top=False, weights=\"imagenet\", input_shape=(img_height, img_width, 3))\n",
    "\n",
    "for layer in vgg.layers:\n",
    "    layer.trainable = False\n",
    "\n",
    "x = Flatten()(vgg.output)\n",
    "x = Dropout(0.5)(x)  # Add Dropout layer with a dropout rate of 0.5\n",
    "x = Dense(3, activation='softmax')(x)\n",
    "\n",
    "vgg_style_model = Model(inputs=vgg.input, outputs=x)"
   ]
  },
  {
   "cell_type": "code",
   "execution_count": null,
   "metadata": {},
   "outputs": [],
   "source": [
    "vgg_style_model.compile(optimizer=tf.keras.optimizers.Adam(learning_rate=1e-3),\n",
    "              loss='sparse_categorical_crossentropy',\n",
    "              metrics=['accuracy'])"
   ]
  },
  {
   "cell_type": "code",
   "execution_count": null,
   "metadata": {},
   "outputs": [],
   "source": [
    "# Create an instance of EarlyStopping callback\n",
    "early_stopping = EarlyStopping(monitor='val_loss', patience=5, restore_best_weights=True)\n",
    "\n",
    "history = vgg_style_model.fit(\n",
    "    train_ds,\n",
    "    validation_data=val_ds,\n",
    "    callbacks=[early_stopping],\n",
    "    epochs=10,"
   ]
  },
  {
   "cell_type": "markdown",
   "metadata": {
    "id": "vpGdagrkIQ44"
   },
   "source": [
    "--------------------------------------------------------------------------"
   ]
  }
 ],
 "metadata": {
  "accelerator": "GPU",
  "colab": {
   "provenance": []
  },
  "gpuClass": "standard",
  "kernelspec": {
   "display_name": "Python 3 (ipykernel)",
   "language": "python",
   "name": "python3"
  },
  "language_info": {
   "codemirror_mode": {
    "name": "ipython",
    "version": 3
   },
   "file_extension": ".py",
   "mimetype": "text/x-python",
   "name": "python",
   "nbconvert_exporter": "python",
   "pygments_lexer": "ipython3",
   "version": "3.9.7"
  }
 },
 "nbformat": 4,
 "nbformat_minor": 1
}
